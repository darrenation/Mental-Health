{
 "cells": [
  {
   "cell_type": "markdown",
   "metadata": {},
   "source": [
    "Load the database"
   ]
  },
  {
   "cell_type": "code",
   "execution_count": 10,
   "metadata": {},
   "outputs": [],
   "source": [
    "from sqlalchemy import create_engine\n",
    "import pandas as pd\n",
    "\n",
    "# Connection parameters\n",
    "dbname = 'students'\n",
    "user = 'students_codealong'\n",
    "password = 'students_codealong'\n",
    "host = 'workspacedemodb.datacamp.com'\n",
    "port = '5432'\n",
    "\n",
    "# Create the connection string\n",
    "connection_string = f'postgresql+psycopg2://{user}:{password}@{host}:{port}/{dbname}'\n",
    "\n",
    "# Create the SQLAlchemy engine\n",
    "engine = create_engine(connection_string)\n",
    "\n",
    "# Execute the query and load the result into a pandas DataFrame\n",
    "df = pd.read_sql(\"SELECT * FROM public.students\", engine)"
   ]
  },
  {
   "cell_type": "markdown",
   "metadata": {},
   "source": [
    "Perform Queries"
   ]
  },
  {
   "cell_type": "code",
   "execution_count": 17,
   "metadata": {},
   "outputs": [
    {
     "name": "stdout",
     "output_type": "stream",
     "text": [
      "    english_cate   age\n",
      "0           High  24.0\n",
      "1           High  28.0\n",
      "2           High  25.0\n",
      "3        Average  29.0\n",
      "4        Average  28.0\n",
      "..           ...   ...\n",
      "281                NaN\n",
      "282                NaN\n",
      "283                NaN\n",
      "284                NaN\n",
      "285                NaN\n",
      "\n",
      "[286 rows x 2 columns]\n"
     ]
    }
   ],
   "source": [
    "query = \"\"\"\n",
    "SELECT english_cate, age\n",
    "FROM public.students;\n",
    "\"\"\"\n",
    "selected_columns_df = pd.read_sql(query, engine)\n",
    "print(selected_columns_df)"
   ]
  },
  {
   "cell_type": "markdown",
   "metadata": {},
   "source": [
    "How many international and domestic students are in the data set?"
   ]
  },
  {
   "cell_type": "code",
   "execution_count": 18,
   "metadata": {},
   "outputs": [
    {
     "name": "stdout",
     "output_type": "stream",
     "text": [
      "  inter_dom  count_inter_dom\n",
      "0       Dom               67\n",
      "1                         18\n",
      "2     Inter              201\n"
     ]
    }
   ],
   "source": [
    "query = \"\"\"\n",
    "SELECT inter_dom, COUNT(*) AS count_inter_dom\n",
    "FROM public.students\n",
    "GROUP BY inter_dom;\n",
    "\"\"\"\n",
    "grouped_df = pd.read_sql(query, engine)\n",
    "print(grouped_df.head())\n"
   ]
  },
  {
   "cell_type": "markdown",
   "metadata": {},
   "source": [
    "Look into the 18 unassigned rows to understand what they could be."
   ]
  },
  {
   "cell_type": "code",
   "execution_count": 19,
   "metadata": {},
   "outputs": [
    {
     "name": "stdout",
     "output_type": "stream",
     "text": [
      "   inter_dom region gender academic   age age_cate  stay stay_cate japanese  \\\n",
      "0                                    None     None  None               None   \n",
      "1                                    None     None  None               None   \n",
      "2                                    None     None  None               None   \n",
      "3                                    None     None  None               None   \n",
      "4                                    None     None  None               None   \n",
      "5                                    None     None  None               None   \n",
      "6                                    None     None  None               None   \n",
      "7                                    None     None  None               None   \n",
      "8                                    None     None  None               None   \n",
      "9                                    None     None  None               None   \n",
      "10                                   None     None  None               None   \n",
      "11                                   None     None  None               None   \n",
      "12                                   None     None  None               None   \n",
      "13                                   None     None  None               None   \n",
      "14                                   None     None  None               None   \n",
      "15                                   None     None  None               None   \n",
      "16                                   None     None  None               None   \n",
      "17                                   None     None  None               None   \n",
      "\n",
      "   japanese_cate  ... friends_bi parents_bi relative_bi professional_bi  \\\n",
      "0                 ...        222                                          \n",
      "1                 ...        249                                          \n",
      "2                 ...        203                                          \n",
      "3                 ...        247                                          \n",
      "4                 ...        223                                          \n",
      "5                 ...                                                     \n",
      "6                 ...        128        137          66              61   \n",
      "7                 ...        140        131         202             207   \n",
      "8                 ...                                                     \n",
      "9                 ...        128        137          66              61   \n",
      "10                ...        140        131         202             207   \n",
      "11                ...                                                     \n",
      "12                ...        123                                          \n",
      "13                ...        140                                          \n",
      "14                ...        131                                          \n",
      "15                ...        202                                          \n",
      "16                ...        207                                          \n",
      "17                ...        238                                          \n",
      "\n",
      "   phone_bi doctor_bi religion_bi alone_bi others_bi internet_bi  \n",
      "0                                                                 \n",
      "1                                                                 \n",
      "2                                                                 \n",
      "3                                                                 \n",
      "4                                                                 \n",
      "5                                                                 \n",
      "6        30        46          19       65        21          45  \n",
      "7       238       222         249      203       247         223  \n",
      "8                                                                 \n",
      "9        30        46          19       65        21          45  \n",
      "10      238       222         249      203       247         223  \n",
      "11                                                                \n",
      "12                                                                \n",
      "13                                                                \n",
      "14                                                                \n",
      "15                                                                \n",
      "16                                                                \n",
      "17                                                                \n",
      "\n",
      "[18 rows x 50 columns]\n"
     ]
    }
   ],
   "source": [
    "query = \"\"\"\n",
    "SELECT *\n",
    "FROM public.students\n",
    "WHERE inter_dom NOT LIKE 'Dom' AND inter_dom NOT LIKE 'Inter';\n",
    "\"\"\"\n",
    "filtered_df = pd.read_sql(query, engine)\n",
    "print(filtered_df)"
   ]
  },
  {
   "cell_type": "markdown",
   "metadata": {},
   "source": [
    "Where are the international students from?"
   ]
  },
  {
   "cell_type": "code",
   "execution_count": 16,
   "metadata": {},
   "outputs": [
    {
     "name": "stdout",
     "output_type": "stream",
     "text": [
      "   region  count_inter_dom\n",
      "0      SA               18\n",
      "1      EA               48\n",
      "2     JAP                2\n",
      "3  Others               11\n",
      "4     SEA              122\n"
     ]
    }
   ],
   "source": [
    "# Define your SQL query\n",
    "query = \"\"\"\n",
    "SELECT region, COUNT(inter_dom) as count_inter_dom\n",
    "FROM public.students\n",
    "WHERE inter_dom = 'Inter'\n",
    "GROUP BY region;\n",
    "\"\"\"\n",
    "result_df = pd.read_sql(query, engine)\n",
    "print(result_df)"
   ]
  },
  {
   "cell_type": "markdown",
   "metadata": {},
   "source": [
    "Find the minimum, maximum, and average of each of the diagnostic tests (PHQ-9, SCS, ASISS). This information is in the paper, but it's good practice to look this up yourself during analysis.\n"
   ]
  },
  {
   "cell_type": "code",
   "execution_count": 20,
   "metadata": {},
   "outputs": [
    {
     "name": "stdout",
     "output_type": "stream",
     "text": [
      "   min_phq  max_phq  avg_phq  min_scs  max_scs  avg_scs  min_as  max_as  \\\n",
      "0        0       25     8.19        8       48    37.47      36     145   \n",
      "\n",
      "   avg_as  \n",
      "0   72.38  \n"
     ]
    }
   ],
   "source": [
    "# Define your SQL query\n",
    "query = \"\"\"\n",
    "SELECT MIN(ToDep) AS min_phq,\n",
    "\tMAX(ToDep) AS max_phq,\n",
    "\tROUND(AVG(ToDep), 2) AS avg_phq,\n",
    "\tMIN(ToSC) AS min_scs,\n",
    "\tMAX(ToSC) AS max_scs,\n",
    "\tROUND(AVG(ToSC), 2) AS avg_scs,\n",
    "\tMIN(ToAS) AS min_as,\n",
    "\tMAX(ToAS) AS max_as,\n",
    "\tROUND(AVG(ToAS), 2) AS avg_as\n",
    "FROM students;\n",
    "\"\"\"\n",
    "result_df = pd.read_sql(query, engine)\n",
    "print(result_df)"
   ]
  },
  {
   "cell_type": "markdown",
   "metadata": {},
   "source": [
    "What are the summary statistics for domestic students and international students?"
   ]
  },
  {
   "cell_type": "code",
   "execution_count": 21,
   "metadata": {},
   "outputs": [
    {
     "name": "stdout",
     "output_type": "stream",
     "text": [
      "  inter_dom  min_phq  max_phq  avg_phq  min_scs  max_scs  avg_scs  min_as  \\\n",
      "0     Inter        0       25     8.04       11       48    37.42      36   \n",
      "1       Dom        0       23     8.61        8       48    37.64      36   \n",
      "\n",
      "   max_as  avg_as  \n",
      "0     145   75.56  \n",
      "1     112   62.84  \n"
     ]
    }
   ],
   "source": [
    "# Define your SQL query\n",
    "query = \"\"\"\n",
    "SELECT inter_dom,\n",
    "\tMIN(ToDep) AS min_phq,\n",
    "\tMAX(ToDep) AS max_phq,\n",
    "\tROUND(AVG(ToDep), 2) AS avg_phq,\n",
    "\tMIN(ToSC) AS min_scs,\n",
    "\tMAX(ToSC) AS max_scs,\n",
    "\tROUND(AVG(ToSC), 2) AS avg_scs,\n",
    "\tMIN(ToAS) AS min_as,\n",
    "\tMAX(ToAS) AS max_as,\n",
    "\tROUND(AVG(ToAS), 2) AS avg_as\n",
    "FROM students\n",
    "WHERE inter_dom IN ('Inter', 'Dom')\n",
    "GROUP BY inter_dom;\n",
    "\"\"\"\n",
    "result_df = pd.read_sql(query, engine)\n",
    "print(result_df)"
   ]
  },
  {
   "cell_type": "markdown",
   "metadata": {},
   "source": [
    "How does the age of the international student impact the scores?"
   ]
  },
  {
   "cell_type": "code",
   "execution_count": 22,
   "metadata": {},
   "outputs": [
    {
     "name": "stdout",
     "output_type": "stream",
     "text": [
      "    age  avg_phq  avg_scs  avg_as\n",
      "0    17     4.67    37.33   70.67\n",
      "1    18     8.75    34.11   80.61\n",
      "2    19     8.44    37.90   74.10\n",
      "3    20     7.35    38.21   73.26\n",
      "4    21     9.23    37.74   75.23\n",
      "5    22     8.36    38.14   70.43\n",
      "6    23     9.67    32.00   81.25\n",
      "7    24     4.67    42.33   74.33\n",
      "8    25     6.11    37.33   80.78\n",
      "9    27    10.00    35.00   42.00\n",
      "10   28     3.33    39.00   71.00\n",
      "11   29     3.75    43.00   63.50\n",
      "12   30     9.33    41.00   97.33\n",
      "13   31     5.75    43.50   80.25\n"
     ]
    }
   ],
   "source": [
    "# Define your SQL query\n",
    "query = \"\"\"\n",
    "SELECT age,\n",
    "ROUND(AVG(todep), 2) AS avg_phq,\n",
    "ROUND(AVG(tosc), 2) AS avg_scs,\n",
    "ROUND(AVG(toas), 2) AS avg_as\n",
    "FROM public.students\n",
    "WHERE inter_dom = 'Inter'\n",
    "GROUP BY age\n",
    "ORDER BY age;\n",
    "\"\"\"\n",
    "result_df = pd.read_sql(query, engine)\n",
    "print(result_df)"
   ]
  },
  {
   "cell_type": "markdown",
   "metadata": {},
   "source": [
    "See how another variable may impact the score."
   ]
  },
  {
   "cell_type": "code",
   "execution_count": 23,
   "metadata": {},
   "outputs": [
    {
     "name": "stdout",
     "output_type": "stream",
     "text": [
      "   stay  avg_phq  avg_scs  avg_as\n",
      "0     1     7.48    38.11   72.80\n",
      "1     2     8.28    37.08   77.67\n",
      "2     3     9.09    37.13   78.00\n",
      "3     4     8.57    33.93   87.71\n",
      "4     5     0.00    34.00   91.00\n",
      "5     6     6.00    38.00   58.67\n",
      "6     7     4.00    48.00   45.00\n",
      "7     8    10.00    44.00   65.00\n",
      "8    10    13.00    32.00   50.00\n"
     ]
    }
   ],
   "source": [
    "# Define your SQL query\n",
    "query = \"\"\"\n",
    "SELECT stay,\n",
    "ROUND(AVG(todep), 2) AS avg_phq,\n",
    "ROUND(AVG(tosc), 2) AS avg_scs,\n",
    "ROUND(AVG(toas), 2) AS avg_as\n",
    "FROM public.students\n",
    "WHERE inter_dom = 'Inter'\n",
    "GROUP BY stay\n",
    "ORDER BY stay;\n",
    "\"\"\"\n",
    "result_df = pd.read_sql(query, engine)\n",
    "print(result_df)"
   ]
  },
  {
   "cell_type": "code",
   "execution_count": 25,
   "metadata": {},
   "outputs": [
    {
     "data": {
      "application/vnd.plotly.v1+json": {
       "config": {
        "plotlyServerURL": "https://plot.ly"
       },
       "data": [
        {
         "alignmentgroup": "True",
         "bingroup": "x",
         "hovertemplate": "Type of Students=Inter<br>Total PHQ-9 Scores=%{x}<br>count=%{y}<extra></extra>",
         "legendgroup": "Inter",
         "marker": {
          "color": "#636efa",
          "pattern": {
           "shape": ""
          }
         },
         "name": "Inter",
         "offsetgroup": "Inter",
         "orientation": "v",
         "showlegend": true,
         "type": "histogram",
         "x": [
          0,
          2,
          2,
          3,
          3,
          6,
          3,
          9,
          7,
          3,
          5,
          8,
          1,
          3,
          9,
          6,
          3,
          3,
          7,
          1,
          4,
          3,
          13,
          1,
          8,
          10,
          13,
          9,
          6,
          7,
          10,
          9,
          9,
          2,
          9,
          14,
          4,
          14,
          13,
          15,
          6,
          4,
          10,
          12,
          6,
          7,
          13,
          2,
          0,
          6,
          19,
          9,
          10,
          8,
          5,
          8,
          17,
          12,
          8,
          7,
          5,
          2,
          8,
          7,
          5,
          9,
          11,
          9,
          5,
          14,
          9,
          5,
          6,
          4,
          2,
          10,
          11,
          10,
          13,
          6,
          6,
          10,
          2,
          0,
          13,
          13,
          8,
          8,
          2,
          13,
          3,
          4,
          1,
          6,
          17,
          21,
          14,
          4,
          12,
          10,
          3,
          6,
          9,
          9,
          7,
          25,
          19,
          11,
          8,
          10,
          5,
          10,
          2,
          9,
          3,
          17,
          6,
          5,
          0,
          6,
          14,
          9,
          9,
          3,
          6,
          0,
          8,
          10,
          8,
          3,
          13,
          1,
          13,
          11,
          14,
          14,
          7,
          11,
          11,
          17,
          6,
          9,
          10,
          4,
          12,
          0,
          8,
          8,
          13,
          5,
          10,
          0,
          9,
          5,
          4,
          0,
          8,
          7,
          11,
          10,
          7,
          11,
          4,
          7,
          9,
          1,
          11,
          13,
          0,
          11,
          6,
          7,
          7,
          9,
          24,
          6,
          11,
          7,
          3,
          4,
          8,
          22,
          12,
          15,
          5,
          22,
          6,
          13,
          11,
          9,
          10,
          4,
          12,
          16,
          3,
          17,
          6,
          7,
          16,
          8,
          2
         ],
         "xaxis": "x",
         "yaxis": "y"
        },
        {
         "alignmentgroup": "True",
         "bingroup": "x",
         "hovertemplate": "Type of Students=<br>Total PHQ-9 Scores=%{x}<br>count=%{y}<extra></extra>",
         "legendgroup": "",
         "marker": {
          "color": "#EF553B",
          "pattern": {
           "shape": ""
          }
         },
         "name": "",
         "offsetgroup": "",
         "orientation": "v",
         "showlegend": false,
         "type": "histogram",
         "x": [
          null,
          null,
          null,
          null,
          null,
          null,
          null,
          null,
          null,
          null,
          null,
          null,
          null,
          null,
          null,
          null,
          null,
          null
         ],
         "xaxis": "x",
         "yaxis": "y"
        },
        {
         "alignmentgroup": "True",
         "bingroup": "x",
         "hovertemplate": "Type of Students=Dom<br>Total PHQ-9 Scores=%{x}<br>count=%{y}<extra></extra>",
         "legendgroup": "Dom",
         "marker": {
          "color": "#00cc96",
          "pattern": {
           "shape": ""
          }
         },
         "name": "Dom",
         "offsetgroup": "Dom",
         "orientation": "v",
         "showlegend": true,
         "type": "histogram",
         "x": [
          12,
          9,
          7,
          3,
          10,
          6,
          6,
          0,
          13,
          9,
          7,
          20,
          21,
          23,
          2,
          13,
          7,
          11,
          5,
          1,
          8,
          8,
          11,
          11,
          0,
          8,
          16,
          7,
          2,
          14,
          9,
          10,
          15,
          10,
          12,
          11,
          11,
          10,
          3,
          4,
          18,
          9,
          5,
          2,
          7,
          10,
          7,
          6,
          9,
          2,
          13,
          10,
          9,
          6,
          0,
          13,
          9,
          9,
          17,
          13,
          0,
          11,
          8,
          2,
          9,
          1,
          7
         ],
         "xaxis": "x",
         "yaxis": "y"
        }
       ],
       "layout": {
        "barmode": "relative",
        "legend": {
         "title": {
          "text": "Type of Students"
         },
         "tracegroupgap": 0
        },
        "template": {
         "data": {
          "bar": [
           {
            "error_x": {
             "color": "#2a3f5f"
            },
            "error_y": {
             "color": "#2a3f5f"
            },
            "marker": {
             "line": {
              "color": "#E5ECF6",
              "width": 0.5
             },
             "pattern": {
              "fillmode": "overlay",
              "size": 10,
              "solidity": 0.2
             }
            },
            "type": "bar"
           }
          ],
          "barpolar": [
           {
            "marker": {
             "line": {
              "color": "#E5ECF6",
              "width": 0.5
             },
             "pattern": {
              "fillmode": "overlay",
              "size": 10,
              "solidity": 0.2
             }
            },
            "type": "barpolar"
           }
          ],
          "carpet": [
           {
            "aaxis": {
             "endlinecolor": "#2a3f5f",
             "gridcolor": "white",
             "linecolor": "white",
             "minorgridcolor": "white",
             "startlinecolor": "#2a3f5f"
            },
            "baxis": {
             "endlinecolor": "#2a3f5f",
             "gridcolor": "white",
             "linecolor": "white",
             "minorgridcolor": "white",
             "startlinecolor": "#2a3f5f"
            },
            "type": "carpet"
           }
          ],
          "choropleth": [
           {
            "colorbar": {
             "outlinewidth": 0,
             "ticks": ""
            },
            "type": "choropleth"
           }
          ],
          "contour": [
           {
            "colorbar": {
             "outlinewidth": 0,
             "ticks": ""
            },
            "colorscale": [
             [
              0,
              "#0d0887"
             ],
             [
              0.1111111111111111,
              "#46039f"
             ],
             [
              0.2222222222222222,
              "#7201a8"
             ],
             [
              0.3333333333333333,
              "#9c179e"
             ],
             [
              0.4444444444444444,
              "#bd3786"
             ],
             [
              0.5555555555555556,
              "#d8576b"
             ],
             [
              0.6666666666666666,
              "#ed7953"
             ],
             [
              0.7777777777777778,
              "#fb9f3a"
             ],
             [
              0.8888888888888888,
              "#fdca26"
             ],
             [
              1,
              "#f0f921"
             ]
            ],
            "type": "contour"
           }
          ],
          "contourcarpet": [
           {
            "colorbar": {
             "outlinewidth": 0,
             "ticks": ""
            },
            "type": "contourcarpet"
           }
          ],
          "heatmap": [
           {
            "colorbar": {
             "outlinewidth": 0,
             "ticks": ""
            },
            "colorscale": [
             [
              0,
              "#0d0887"
             ],
             [
              0.1111111111111111,
              "#46039f"
             ],
             [
              0.2222222222222222,
              "#7201a8"
             ],
             [
              0.3333333333333333,
              "#9c179e"
             ],
             [
              0.4444444444444444,
              "#bd3786"
             ],
             [
              0.5555555555555556,
              "#d8576b"
             ],
             [
              0.6666666666666666,
              "#ed7953"
             ],
             [
              0.7777777777777778,
              "#fb9f3a"
             ],
             [
              0.8888888888888888,
              "#fdca26"
             ],
             [
              1,
              "#f0f921"
             ]
            ],
            "type": "heatmap"
           }
          ],
          "heatmapgl": [
           {
            "colorbar": {
             "outlinewidth": 0,
             "ticks": ""
            },
            "colorscale": [
             [
              0,
              "#0d0887"
             ],
             [
              0.1111111111111111,
              "#46039f"
             ],
             [
              0.2222222222222222,
              "#7201a8"
             ],
             [
              0.3333333333333333,
              "#9c179e"
             ],
             [
              0.4444444444444444,
              "#bd3786"
             ],
             [
              0.5555555555555556,
              "#d8576b"
             ],
             [
              0.6666666666666666,
              "#ed7953"
             ],
             [
              0.7777777777777778,
              "#fb9f3a"
             ],
             [
              0.8888888888888888,
              "#fdca26"
             ],
             [
              1,
              "#f0f921"
             ]
            ],
            "type": "heatmapgl"
           }
          ],
          "histogram": [
           {
            "marker": {
             "pattern": {
              "fillmode": "overlay",
              "size": 10,
              "solidity": 0.2
             }
            },
            "type": "histogram"
           }
          ],
          "histogram2d": [
           {
            "colorbar": {
             "outlinewidth": 0,
             "ticks": ""
            },
            "colorscale": [
             [
              0,
              "#0d0887"
             ],
             [
              0.1111111111111111,
              "#46039f"
             ],
             [
              0.2222222222222222,
              "#7201a8"
             ],
             [
              0.3333333333333333,
              "#9c179e"
             ],
             [
              0.4444444444444444,
              "#bd3786"
             ],
             [
              0.5555555555555556,
              "#d8576b"
             ],
             [
              0.6666666666666666,
              "#ed7953"
             ],
             [
              0.7777777777777778,
              "#fb9f3a"
             ],
             [
              0.8888888888888888,
              "#fdca26"
             ],
             [
              1,
              "#f0f921"
             ]
            ],
            "type": "histogram2d"
           }
          ],
          "histogram2dcontour": [
           {
            "colorbar": {
             "outlinewidth": 0,
             "ticks": ""
            },
            "colorscale": [
             [
              0,
              "#0d0887"
             ],
             [
              0.1111111111111111,
              "#46039f"
             ],
             [
              0.2222222222222222,
              "#7201a8"
             ],
             [
              0.3333333333333333,
              "#9c179e"
             ],
             [
              0.4444444444444444,
              "#bd3786"
             ],
             [
              0.5555555555555556,
              "#d8576b"
             ],
             [
              0.6666666666666666,
              "#ed7953"
             ],
             [
              0.7777777777777778,
              "#fb9f3a"
             ],
             [
              0.8888888888888888,
              "#fdca26"
             ],
             [
              1,
              "#f0f921"
             ]
            ],
            "type": "histogram2dcontour"
           }
          ],
          "mesh3d": [
           {
            "colorbar": {
             "outlinewidth": 0,
             "ticks": ""
            },
            "type": "mesh3d"
           }
          ],
          "parcoords": [
           {
            "line": {
             "colorbar": {
              "outlinewidth": 0,
              "ticks": ""
             }
            },
            "type": "parcoords"
           }
          ],
          "pie": [
           {
            "automargin": true,
            "type": "pie"
           }
          ],
          "scatter": [
           {
            "fillpattern": {
             "fillmode": "overlay",
             "size": 10,
             "solidity": 0.2
            },
            "type": "scatter"
           }
          ],
          "scatter3d": [
           {
            "line": {
             "colorbar": {
              "outlinewidth": 0,
              "ticks": ""
             }
            },
            "marker": {
             "colorbar": {
              "outlinewidth": 0,
              "ticks": ""
             }
            },
            "type": "scatter3d"
           }
          ],
          "scattercarpet": [
           {
            "marker": {
             "colorbar": {
              "outlinewidth": 0,
              "ticks": ""
             }
            },
            "type": "scattercarpet"
           }
          ],
          "scattergeo": [
           {
            "marker": {
             "colorbar": {
              "outlinewidth": 0,
              "ticks": ""
             }
            },
            "type": "scattergeo"
           }
          ],
          "scattergl": [
           {
            "marker": {
             "colorbar": {
              "outlinewidth": 0,
              "ticks": ""
             }
            },
            "type": "scattergl"
           }
          ],
          "scattermapbox": [
           {
            "marker": {
             "colorbar": {
              "outlinewidth": 0,
              "ticks": ""
             }
            },
            "type": "scattermapbox"
           }
          ],
          "scatterpolar": [
           {
            "marker": {
             "colorbar": {
              "outlinewidth": 0,
              "ticks": ""
             }
            },
            "type": "scatterpolar"
           }
          ],
          "scatterpolargl": [
           {
            "marker": {
             "colorbar": {
              "outlinewidth": 0,
              "ticks": ""
             }
            },
            "type": "scatterpolargl"
           }
          ],
          "scatterternary": [
           {
            "marker": {
             "colorbar": {
              "outlinewidth": 0,
              "ticks": ""
             }
            },
            "type": "scatterternary"
           }
          ],
          "surface": [
           {
            "colorbar": {
             "outlinewidth": 0,
             "ticks": ""
            },
            "colorscale": [
             [
              0,
              "#0d0887"
             ],
             [
              0.1111111111111111,
              "#46039f"
             ],
             [
              0.2222222222222222,
              "#7201a8"
             ],
             [
              0.3333333333333333,
              "#9c179e"
             ],
             [
              0.4444444444444444,
              "#bd3786"
             ],
             [
              0.5555555555555556,
              "#d8576b"
             ],
             [
              0.6666666666666666,
              "#ed7953"
             ],
             [
              0.7777777777777778,
              "#fb9f3a"
             ],
             [
              0.8888888888888888,
              "#fdca26"
             ],
             [
              1,
              "#f0f921"
             ]
            ],
            "type": "surface"
           }
          ],
          "table": [
           {
            "cells": {
             "fill": {
              "color": "#EBF0F8"
             },
             "line": {
              "color": "white"
             }
            },
            "header": {
             "fill": {
              "color": "#C8D4E3"
             },
             "line": {
              "color": "white"
             }
            },
            "type": "table"
           }
          ]
         },
         "layout": {
          "annotationdefaults": {
           "arrowcolor": "#2a3f5f",
           "arrowhead": 0,
           "arrowwidth": 1
          },
          "autotypenumbers": "strict",
          "coloraxis": {
           "colorbar": {
            "outlinewidth": 0,
            "ticks": ""
           }
          },
          "colorscale": {
           "diverging": [
            [
             0,
             "#8e0152"
            ],
            [
             0.1,
             "#c51b7d"
            ],
            [
             0.2,
             "#de77ae"
            ],
            [
             0.3,
             "#f1b6da"
            ],
            [
             0.4,
             "#fde0ef"
            ],
            [
             0.5,
             "#f7f7f7"
            ],
            [
             0.6,
             "#e6f5d0"
            ],
            [
             0.7,
             "#b8e186"
            ],
            [
             0.8,
             "#7fbc41"
            ],
            [
             0.9,
             "#4d9221"
            ],
            [
             1,
             "#276419"
            ]
           ],
           "sequential": [
            [
             0,
             "#0d0887"
            ],
            [
             0.1111111111111111,
             "#46039f"
            ],
            [
             0.2222222222222222,
             "#7201a8"
            ],
            [
             0.3333333333333333,
             "#9c179e"
            ],
            [
             0.4444444444444444,
             "#bd3786"
            ],
            [
             0.5555555555555556,
             "#d8576b"
            ],
            [
             0.6666666666666666,
             "#ed7953"
            ],
            [
             0.7777777777777778,
             "#fb9f3a"
            ],
            [
             0.8888888888888888,
             "#fdca26"
            ],
            [
             1,
             "#f0f921"
            ]
           ],
           "sequentialminus": [
            [
             0,
             "#0d0887"
            ],
            [
             0.1111111111111111,
             "#46039f"
            ],
            [
             0.2222222222222222,
             "#7201a8"
            ],
            [
             0.3333333333333333,
             "#9c179e"
            ],
            [
             0.4444444444444444,
             "#bd3786"
            ],
            [
             0.5555555555555556,
             "#d8576b"
            ],
            [
             0.6666666666666666,
             "#ed7953"
            ],
            [
             0.7777777777777778,
             "#fb9f3a"
            ],
            [
             0.8888888888888888,
             "#fdca26"
            ],
            [
             1,
             "#f0f921"
            ]
           ]
          },
          "colorway": [
           "#636efa",
           "#EF553B",
           "#00cc96",
           "#ab63fa",
           "#FFA15A",
           "#19d3f3",
           "#FF6692",
           "#B6E880",
           "#FF97FF",
           "#FECB52"
          ],
          "font": {
           "color": "#2a3f5f"
          },
          "geo": {
           "bgcolor": "white",
           "lakecolor": "white",
           "landcolor": "#E5ECF6",
           "showlakes": true,
           "showland": true,
           "subunitcolor": "white"
          },
          "hoverlabel": {
           "align": "left"
          },
          "hovermode": "closest",
          "mapbox": {
           "style": "light"
          },
          "paper_bgcolor": "white",
          "plot_bgcolor": "#E5ECF6",
          "polar": {
           "angularaxis": {
            "gridcolor": "white",
            "linecolor": "white",
            "ticks": ""
           },
           "bgcolor": "#E5ECF6",
           "radialaxis": {
            "gridcolor": "white",
            "linecolor": "white",
            "ticks": ""
           }
          },
          "scene": {
           "xaxis": {
            "backgroundcolor": "#E5ECF6",
            "gridcolor": "white",
            "gridwidth": 2,
            "linecolor": "white",
            "showbackground": true,
            "ticks": "",
            "zerolinecolor": "white"
           },
           "yaxis": {
            "backgroundcolor": "#E5ECF6",
            "gridcolor": "white",
            "gridwidth": 2,
            "linecolor": "white",
            "showbackground": true,
            "ticks": "",
            "zerolinecolor": "white"
           },
           "zaxis": {
            "backgroundcolor": "#E5ECF6",
            "gridcolor": "white",
            "gridwidth": 2,
            "linecolor": "white",
            "showbackground": true,
            "ticks": "",
            "zerolinecolor": "white"
           }
          },
          "shapedefaults": {
           "line": {
            "color": "#2a3f5f"
           }
          },
          "ternary": {
           "aaxis": {
            "gridcolor": "white",
            "linecolor": "white",
            "ticks": ""
           },
           "baxis": {
            "gridcolor": "white",
            "linecolor": "white",
            "ticks": ""
           },
           "bgcolor": "#E5ECF6",
           "caxis": {
            "gridcolor": "white",
            "linecolor": "white",
            "ticks": ""
           }
          },
          "title": {
           "x": 0.05
          },
          "xaxis": {
           "automargin": true,
           "gridcolor": "white",
           "linecolor": "white",
           "ticks": "",
           "title": {
            "standoff": 15
           },
           "zerolinecolor": "white",
           "zerolinewidth": 2
          },
          "yaxis": {
           "automargin": true,
           "gridcolor": "white",
           "linecolor": "white",
           "ticks": "",
           "title": {
            "standoff": 15
           },
           "zerolinecolor": "white",
           "zerolinewidth": 2
          }
         }
        },
        "title": {
         "text": "Distribution of the total scores from the PHQ-9 test"
        },
        "xaxis": {
         "anchor": "y",
         "domain": [
          0,
          1
         ],
         "title": {
          "text": "Total PHQ-9 Scores"
         }
        },
        "yaxis": {
         "anchor": "x",
         "domain": [
          0,
          1
         ],
         "title": {
          "text": "count"
         }
        }
       }
      }
     },
     "metadata": {},
     "output_type": "display_data"
    }
   ],
   "source": [
    "# Import plotly packages\n",
    "import plotly.express as px\n",
    "import plotly.graph_objects as go\n",
    "\n",
    "# Create the histogram figure\n",
    "fig = px.histogram(\n",
    "    \n",
    "# Select the dataframe\n",
    "    data_frame=df,\n",
    "    \n",
    "# Select the column you want to visualize\n",
    "    x=\"todep\",\n",
    "\n",
    "# Select the additional column to determine different groups of data\n",
    "    color=\"inter_dom\",\n",
    "\n",
    "# Clean up the labels\n",
    "    title=\"Distribution of the total scores from the PHQ-9 test\",\n",
    "    labels={\"inter_dom\":\"Type of Students\", \"todep\":\"Total PHQ-9 Scores\"})\n",
    "\n",
    "# Show the figure\n",
    "fig.show()"
   ]
  },
  {
   "cell_type": "code",
   "execution_count": 26,
   "metadata": {},
   "outputs": [
    {
     "data": {
      "application/vnd.plotly.v1+json": {
       "config": {
        "plotlyServerURL": "https://plot.ly"
       },
       "data": [
        {
         "alignmentgroup": "True",
         "boxpoints": "all",
         "customdata": [
          [
           24
          ],
          [
           28
          ],
          [
           25
          ],
          [
           29
          ],
          [
           28
          ],
          [
           24
          ],
          [
           23
          ],
          [
           30
          ],
          [
           25
          ],
          [
           31
          ],
          [
           28
          ],
          [
           31
          ],
          [
           29
          ],
          [
           23
          ],
          [
           31
          ],
          [
           30
          ],
          [
           31
          ],
          [
           29
          ],
          [
           19
          ],
          [
           25
          ],
          [
           18
          ],
          [
           18
          ],
          [
           19
          ],
          [
           20
          ],
          [
           29
          ],
          [
           25
          ],
          [
           30
          ],
          [
           17
          ],
          [
           20
          ],
          [
           19
          ],
          [
           18
          ],
          [
           21
          ],
          [
           22
          ],
          [
           20
          ],
          [
           19
          ],
          [
           21
          ],
          [
           22
          ],
          [
           18
          ],
          [
           21
          ],
          [
           22
          ],
          [
           19
          ],
          [
           24
          ],
          [
           19
          ],
          [
           18
          ],
          [
           20
          ],
          [
           23
          ],
          [
           23
          ],
          [
           20
          ],
          [
           20
          ],
          [
           21
          ],
          [
           23
          ],
          [
           20
          ],
          [
           23
          ],
          [
           20
          ],
          [
           21
          ],
          [
           21
          ],
          [
           19
          ],
          [
           18
          ],
          [
           20
          ],
          [
           18
          ],
          [
           20
          ],
          [
           18
          ],
          [
           21
          ],
          [
           20
          ],
          [
           19
          ],
          [
           18
          ],
          [
           21
          ],
          [
           20
          ],
          [
           18
          ],
          [
           19
          ],
          [
           22
          ],
          [
           19
          ],
          [
           20
          ],
          [
           19
          ],
          [
           24
          ],
          [
           21
          ],
          [
           20
          ],
          [
           23
          ],
          [
           19
          ],
          [
           19
          ],
          [
           19
          ],
          [
           20
          ],
          [
           20
          ],
          [
           21
          ],
          [
           21
          ],
          [
           21
          ],
          [
           18
          ],
          [
           19
          ],
          [
           21
          ],
          [
           18
          ],
          [
           19
          ],
          [
           22
          ],
          [
           19
          ],
          [
           21
          ],
          [
           19
          ],
          [
           23
          ],
          [
           20
          ],
          [
           20
          ],
          [
           21
          ],
          [
           20
          ],
          [
           20
          ],
          [
           23
          ],
          [
           21
          ],
          [
           20
          ],
          [
           23
          ],
          [
           19
          ],
          [
           21
          ],
          [
           21
          ],
          [
           18
          ],
          [
           19
          ],
          [
           17
          ],
          [
           18
          ],
          [
           19
          ],
          [
           22
          ],
          [
           23
          ],
          [
           21
          ],
          [
           22
          ],
          [
           21
          ],
          [
           21
          ],
          [
           20
          ],
          [
           23
          ],
          [
           18
          ],
          [
           21
          ],
          [
           18
          ],
          [
           22
          ],
          [
           17
          ],
          [
           19
          ],
          [
           27
          ],
          [
           18
          ],
          [
           19
          ],
          [
           20
          ],
          [
           19
          ],
          [
           19
          ],
          [
           21
          ],
          [
           21
          ],
          [
           22
          ],
          [
           22
          ],
          [
           21
          ],
          [
           21
          ],
          [
           19
          ],
          [
           21
          ],
          [
           21
          ],
          [
           22
          ],
          [
           18
          ],
          [
           20
          ],
          [
           20
          ],
          [
           24
          ],
          [
           24
          ],
          [
           18
          ],
          [
           21
          ],
          [
           19
          ],
          [
           19
          ],
          [
           20
          ],
          [
           21
          ],
          [
           18
          ],
          [
           21
          ],
          [
           21
          ],
          [
           19
          ],
          [
           21
          ],
          [
           19
          ],
          [
           20
          ],
          [
           19
          ],
          [
           19
          ],
          [
           19
          ],
          [
           25
          ],
          [
           21
          ],
          [
           18
          ],
          [
           19
          ],
          [
           25
          ],
          [
           18
          ],
          [
           19
          ],
          [
           20
          ],
          [
           21
          ],
          [
           19
          ],
          [
           20
          ],
          [
           19
          ],
          [
           22
          ],
          [
           22
          ],
          [
           19
          ],
          [
           19
          ],
          [
           18
          ],
          [
           18
          ],
          [
           20
          ],
          [
           19
          ],
          [
           18
          ],
          [
           21
          ],
          [
           22
          ],
          [
           25
          ],
          [
           19
          ],
          [
           25
          ],
          [
           18
          ],
          [
           25
          ],
          [
           18
          ],
          [
           20
          ],
          [
           20
          ],
          [
           21
          ],
          [
           21
          ],
          [
           20
          ],
          [
           21
          ],
          [
           18
          ],
          [
           20
          ]
         ],
         "hovertemplate": "Type of Student=Inter<br>todep=%{x}<br>age=%{customdata[0]}<extra></extra>",
         "legendgroup": "Inter",
         "marker": {
          "color": "#636efa"
         },
         "name": "Inter",
         "notched": false,
         "offsetgroup": "Inter",
         "orientation": "h",
         "showlegend": true,
         "type": "box",
         "x": [
          0,
          2,
          2,
          3,
          3,
          6,
          3,
          9,
          7,
          3,
          5,
          8,
          1,
          3,
          9,
          6,
          3,
          3,
          7,
          1,
          4,
          3,
          13,
          1,
          8,
          10,
          13,
          9,
          6,
          7,
          10,
          9,
          9,
          2,
          9,
          14,
          4,
          14,
          13,
          15,
          6,
          4,
          10,
          12,
          6,
          7,
          13,
          2,
          0,
          6,
          19,
          9,
          10,
          8,
          5,
          8,
          17,
          12,
          8,
          7,
          5,
          2,
          8,
          7,
          5,
          9,
          11,
          9,
          5,
          14,
          9,
          5,
          6,
          4,
          2,
          10,
          11,
          10,
          13,
          6,
          6,
          10,
          2,
          0,
          13,
          13,
          8,
          8,
          2,
          13,
          3,
          4,
          1,
          6,
          17,
          21,
          14,
          4,
          12,
          10,
          3,
          6,
          9,
          9,
          7,
          25,
          19,
          11,
          8,
          10,
          5,
          10,
          2,
          9,
          3,
          17,
          6,
          5,
          0,
          6,
          14,
          9,
          9,
          3,
          6,
          0,
          8,
          10,
          8,
          3,
          13,
          1,
          13,
          11,
          14,
          14,
          7,
          11,
          11,
          17,
          6,
          9,
          10,
          4,
          12,
          0,
          8,
          8,
          13,
          5,
          10,
          0,
          9,
          5,
          4,
          0,
          8,
          7,
          11,
          10,
          7,
          11,
          4,
          7,
          9,
          1,
          11,
          13,
          0,
          11,
          6,
          7,
          7,
          9,
          24,
          6,
          11,
          7,
          3,
          4,
          8,
          22,
          12,
          15,
          5,
          22,
          6,
          13,
          11,
          9,
          10,
          4,
          12,
          16,
          3,
          17,
          6,
          7,
          16,
          8,
          2
         ],
         "x0": " ",
         "xaxis": "x",
         "y0": " ",
         "yaxis": "y"
        },
        {
         "alignmentgroup": "True",
         "boxpoints": "all",
         "customdata": [
          [
           null
          ],
          [
           null
          ],
          [
           null
          ],
          [
           null
          ],
          [
           null
          ],
          [
           null
          ],
          [
           null
          ],
          [
           null
          ],
          [
           null
          ],
          [
           null
          ],
          [
           null
          ],
          [
           null
          ],
          [
           null
          ],
          [
           null
          ],
          [
           null
          ],
          [
           null
          ],
          [
           null
          ],
          [
           null
          ]
         ],
         "hovertemplate": "Type of Student=<br>todep=%{x}<br>age=%{customdata[0]}<extra></extra>",
         "legendgroup": "",
         "marker": {
          "color": "#EF553B"
         },
         "name": "",
         "notched": false,
         "offsetgroup": "",
         "orientation": "h",
         "showlegend": false,
         "type": "box",
         "x": [
          null,
          null,
          null,
          null,
          null,
          null,
          null,
          null,
          null,
          null,
          null,
          null,
          null,
          null,
          null,
          null,
          null,
          null
         ],
         "x0": " ",
         "xaxis": "x",
         "y0": " ",
         "yaxis": "y"
        },
        {
         "alignmentgroup": "True",
         "boxpoints": "all",
         "customdata": [
          [
           27
          ],
          [
           18
          ],
          [
           21
          ],
          [
           20
          ],
          [
           21
          ],
          [
           20
          ],
          [
           18
          ],
          [
           22
          ],
          [
           22
          ],
          [
           20
          ],
          [
           21
          ],
          [
           21
          ],
          [
           20
          ],
          [
           21
          ],
          [
           21
          ],
          [
           20
          ],
          [
           21
          ],
          [
           21
          ],
          [
           22
          ],
          [
           21
          ],
          [
           21
          ],
          [
           19
          ],
          [
           23
          ],
          [
           18
          ],
          [
           18
          ],
          [
           18
          ],
          [
           18
          ],
          [
           18
          ],
          [
           20
          ],
          [
           20
          ],
          [
           19
          ],
          [
           20
          ],
          [
           21
          ],
          [
           23
          ],
          [
           20
          ],
          [
           21
          ],
          [
           19
          ],
          [
           20
          ],
          [
           20
          ],
          [
           21
          ],
          [
           20
          ],
          [
           19
          ],
          [
           20
          ],
          [
           20
          ],
          [
           19
          ],
          [
           24
          ],
          [
           22
          ],
          [
           21
          ],
          [
           19
          ],
          [
           23
          ],
          [
           23
          ],
          [
           21
          ],
          [
           18
          ],
          [
           21
          ],
          [
           22
          ],
          [
           20
          ],
          [
           19
          ],
          [
           18
          ],
          [
           19
          ],
          [
           20
          ],
          [
           21
          ],
          [
           22
          ],
          [
           21
          ],
          [
           22
          ],
          [
           19
          ],
          [
           19
          ],
          [
           20
          ]
         ],
         "hovertemplate": "Type of Student=Dom<br>todep=%{x}<br>age=%{customdata[0]}<extra></extra>",
         "legendgroup": "Dom",
         "marker": {
          "color": "#00cc96"
         },
         "name": "Dom",
         "notched": false,
         "offsetgroup": "Dom",
         "orientation": "h",
         "showlegend": true,
         "type": "box",
         "x": [
          12,
          9,
          7,
          3,
          10,
          6,
          6,
          0,
          13,
          9,
          7,
          20,
          21,
          23,
          2,
          13,
          7,
          11,
          5,
          1,
          8,
          8,
          11,
          11,
          0,
          8,
          16,
          7,
          2,
          14,
          9,
          10,
          15,
          10,
          12,
          11,
          11,
          10,
          3,
          4,
          18,
          9,
          5,
          2,
          7,
          10,
          7,
          6,
          9,
          2,
          13,
          10,
          9,
          6,
          0,
          13,
          9,
          9,
          17,
          13,
          0,
          11,
          8,
          2,
          9,
          1,
          7
         ],
         "x0": " ",
         "xaxis": "x",
         "y0": " ",
         "yaxis": "y"
        }
       ],
       "layout": {
        "boxmode": "group",
        "legend": {
         "title": {
          "text": "Type of Student"
         },
         "tracegroupgap": 0
        },
        "template": {
         "data": {
          "bar": [
           {
            "error_x": {
             "color": "#2a3f5f"
            },
            "error_y": {
             "color": "#2a3f5f"
            },
            "marker": {
             "line": {
              "color": "#E5ECF6",
              "width": 0.5
             },
             "pattern": {
              "fillmode": "overlay",
              "size": 10,
              "solidity": 0.2
             }
            },
            "type": "bar"
           }
          ],
          "barpolar": [
           {
            "marker": {
             "line": {
              "color": "#E5ECF6",
              "width": 0.5
             },
             "pattern": {
              "fillmode": "overlay",
              "size": 10,
              "solidity": 0.2
             }
            },
            "type": "barpolar"
           }
          ],
          "carpet": [
           {
            "aaxis": {
             "endlinecolor": "#2a3f5f",
             "gridcolor": "white",
             "linecolor": "white",
             "minorgridcolor": "white",
             "startlinecolor": "#2a3f5f"
            },
            "baxis": {
             "endlinecolor": "#2a3f5f",
             "gridcolor": "white",
             "linecolor": "white",
             "minorgridcolor": "white",
             "startlinecolor": "#2a3f5f"
            },
            "type": "carpet"
           }
          ],
          "choropleth": [
           {
            "colorbar": {
             "outlinewidth": 0,
             "ticks": ""
            },
            "type": "choropleth"
           }
          ],
          "contour": [
           {
            "colorbar": {
             "outlinewidth": 0,
             "ticks": ""
            },
            "colorscale": [
             [
              0,
              "#0d0887"
             ],
             [
              0.1111111111111111,
              "#46039f"
             ],
             [
              0.2222222222222222,
              "#7201a8"
             ],
             [
              0.3333333333333333,
              "#9c179e"
             ],
             [
              0.4444444444444444,
              "#bd3786"
             ],
             [
              0.5555555555555556,
              "#d8576b"
             ],
             [
              0.6666666666666666,
              "#ed7953"
             ],
             [
              0.7777777777777778,
              "#fb9f3a"
             ],
             [
              0.8888888888888888,
              "#fdca26"
             ],
             [
              1,
              "#f0f921"
             ]
            ],
            "type": "contour"
           }
          ],
          "contourcarpet": [
           {
            "colorbar": {
             "outlinewidth": 0,
             "ticks": ""
            },
            "type": "contourcarpet"
           }
          ],
          "heatmap": [
           {
            "colorbar": {
             "outlinewidth": 0,
             "ticks": ""
            },
            "colorscale": [
             [
              0,
              "#0d0887"
             ],
             [
              0.1111111111111111,
              "#46039f"
             ],
             [
              0.2222222222222222,
              "#7201a8"
             ],
             [
              0.3333333333333333,
              "#9c179e"
             ],
             [
              0.4444444444444444,
              "#bd3786"
             ],
             [
              0.5555555555555556,
              "#d8576b"
             ],
             [
              0.6666666666666666,
              "#ed7953"
             ],
             [
              0.7777777777777778,
              "#fb9f3a"
             ],
             [
              0.8888888888888888,
              "#fdca26"
             ],
             [
              1,
              "#f0f921"
             ]
            ],
            "type": "heatmap"
           }
          ],
          "heatmapgl": [
           {
            "colorbar": {
             "outlinewidth": 0,
             "ticks": ""
            },
            "colorscale": [
             [
              0,
              "#0d0887"
             ],
             [
              0.1111111111111111,
              "#46039f"
             ],
             [
              0.2222222222222222,
              "#7201a8"
             ],
             [
              0.3333333333333333,
              "#9c179e"
             ],
             [
              0.4444444444444444,
              "#bd3786"
             ],
             [
              0.5555555555555556,
              "#d8576b"
             ],
             [
              0.6666666666666666,
              "#ed7953"
             ],
             [
              0.7777777777777778,
              "#fb9f3a"
             ],
             [
              0.8888888888888888,
              "#fdca26"
             ],
             [
              1,
              "#f0f921"
             ]
            ],
            "type": "heatmapgl"
           }
          ],
          "histogram": [
           {
            "marker": {
             "pattern": {
              "fillmode": "overlay",
              "size": 10,
              "solidity": 0.2
             }
            },
            "type": "histogram"
           }
          ],
          "histogram2d": [
           {
            "colorbar": {
             "outlinewidth": 0,
             "ticks": ""
            },
            "colorscale": [
             [
              0,
              "#0d0887"
             ],
             [
              0.1111111111111111,
              "#46039f"
             ],
             [
              0.2222222222222222,
              "#7201a8"
             ],
             [
              0.3333333333333333,
              "#9c179e"
             ],
             [
              0.4444444444444444,
              "#bd3786"
             ],
             [
              0.5555555555555556,
              "#d8576b"
             ],
             [
              0.6666666666666666,
              "#ed7953"
             ],
             [
              0.7777777777777778,
              "#fb9f3a"
             ],
             [
              0.8888888888888888,
              "#fdca26"
             ],
             [
              1,
              "#f0f921"
             ]
            ],
            "type": "histogram2d"
           }
          ],
          "histogram2dcontour": [
           {
            "colorbar": {
             "outlinewidth": 0,
             "ticks": ""
            },
            "colorscale": [
             [
              0,
              "#0d0887"
             ],
             [
              0.1111111111111111,
              "#46039f"
             ],
             [
              0.2222222222222222,
              "#7201a8"
             ],
             [
              0.3333333333333333,
              "#9c179e"
             ],
             [
              0.4444444444444444,
              "#bd3786"
             ],
             [
              0.5555555555555556,
              "#d8576b"
             ],
             [
              0.6666666666666666,
              "#ed7953"
             ],
             [
              0.7777777777777778,
              "#fb9f3a"
             ],
             [
              0.8888888888888888,
              "#fdca26"
             ],
             [
              1,
              "#f0f921"
             ]
            ],
            "type": "histogram2dcontour"
           }
          ],
          "mesh3d": [
           {
            "colorbar": {
             "outlinewidth": 0,
             "ticks": ""
            },
            "type": "mesh3d"
           }
          ],
          "parcoords": [
           {
            "line": {
             "colorbar": {
              "outlinewidth": 0,
              "ticks": ""
             }
            },
            "type": "parcoords"
           }
          ],
          "pie": [
           {
            "automargin": true,
            "type": "pie"
           }
          ],
          "scatter": [
           {
            "fillpattern": {
             "fillmode": "overlay",
             "size": 10,
             "solidity": 0.2
            },
            "type": "scatter"
           }
          ],
          "scatter3d": [
           {
            "line": {
             "colorbar": {
              "outlinewidth": 0,
              "ticks": ""
             }
            },
            "marker": {
             "colorbar": {
              "outlinewidth": 0,
              "ticks": ""
             }
            },
            "type": "scatter3d"
           }
          ],
          "scattercarpet": [
           {
            "marker": {
             "colorbar": {
              "outlinewidth": 0,
              "ticks": ""
             }
            },
            "type": "scattercarpet"
           }
          ],
          "scattergeo": [
           {
            "marker": {
             "colorbar": {
              "outlinewidth": 0,
              "ticks": ""
             }
            },
            "type": "scattergeo"
           }
          ],
          "scattergl": [
           {
            "marker": {
             "colorbar": {
              "outlinewidth": 0,
              "ticks": ""
             }
            },
            "type": "scattergl"
           }
          ],
          "scattermapbox": [
           {
            "marker": {
             "colorbar": {
              "outlinewidth": 0,
              "ticks": ""
             }
            },
            "type": "scattermapbox"
           }
          ],
          "scatterpolar": [
           {
            "marker": {
             "colorbar": {
              "outlinewidth": 0,
              "ticks": ""
             }
            },
            "type": "scatterpolar"
           }
          ],
          "scatterpolargl": [
           {
            "marker": {
             "colorbar": {
              "outlinewidth": 0,
              "ticks": ""
             }
            },
            "type": "scatterpolargl"
           }
          ],
          "scatterternary": [
           {
            "marker": {
             "colorbar": {
              "outlinewidth": 0,
              "ticks": ""
             }
            },
            "type": "scatterternary"
           }
          ],
          "surface": [
           {
            "colorbar": {
             "outlinewidth": 0,
             "ticks": ""
            },
            "colorscale": [
             [
              0,
              "#0d0887"
             ],
             [
              0.1111111111111111,
              "#46039f"
             ],
             [
              0.2222222222222222,
              "#7201a8"
             ],
             [
              0.3333333333333333,
              "#9c179e"
             ],
             [
              0.4444444444444444,
              "#bd3786"
             ],
             [
              0.5555555555555556,
              "#d8576b"
             ],
             [
              0.6666666666666666,
              "#ed7953"
             ],
             [
              0.7777777777777778,
              "#fb9f3a"
             ],
             [
              0.8888888888888888,
              "#fdca26"
             ],
             [
              1,
              "#f0f921"
             ]
            ],
            "type": "surface"
           }
          ],
          "table": [
           {
            "cells": {
             "fill": {
              "color": "#EBF0F8"
             },
             "line": {
              "color": "white"
             }
            },
            "header": {
             "fill": {
              "color": "#C8D4E3"
             },
             "line": {
              "color": "white"
             }
            },
            "type": "table"
           }
          ]
         },
         "layout": {
          "annotationdefaults": {
           "arrowcolor": "#2a3f5f",
           "arrowhead": 0,
           "arrowwidth": 1
          },
          "autotypenumbers": "strict",
          "coloraxis": {
           "colorbar": {
            "outlinewidth": 0,
            "ticks": ""
           }
          },
          "colorscale": {
           "diverging": [
            [
             0,
             "#8e0152"
            ],
            [
             0.1,
             "#c51b7d"
            ],
            [
             0.2,
             "#de77ae"
            ],
            [
             0.3,
             "#f1b6da"
            ],
            [
             0.4,
             "#fde0ef"
            ],
            [
             0.5,
             "#f7f7f7"
            ],
            [
             0.6,
             "#e6f5d0"
            ],
            [
             0.7,
             "#b8e186"
            ],
            [
             0.8,
             "#7fbc41"
            ],
            [
             0.9,
             "#4d9221"
            ],
            [
             1,
             "#276419"
            ]
           ],
           "sequential": [
            [
             0,
             "#0d0887"
            ],
            [
             0.1111111111111111,
             "#46039f"
            ],
            [
             0.2222222222222222,
             "#7201a8"
            ],
            [
             0.3333333333333333,
             "#9c179e"
            ],
            [
             0.4444444444444444,
             "#bd3786"
            ],
            [
             0.5555555555555556,
             "#d8576b"
            ],
            [
             0.6666666666666666,
             "#ed7953"
            ],
            [
             0.7777777777777778,
             "#fb9f3a"
            ],
            [
             0.8888888888888888,
             "#fdca26"
            ],
            [
             1,
             "#f0f921"
            ]
           ],
           "sequentialminus": [
            [
             0,
             "#0d0887"
            ],
            [
             0.1111111111111111,
             "#46039f"
            ],
            [
             0.2222222222222222,
             "#7201a8"
            ],
            [
             0.3333333333333333,
             "#9c179e"
            ],
            [
             0.4444444444444444,
             "#bd3786"
            ],
            [
             0.5555555555555556,
             "#d8576b"
            ],
            [
             0.6666666666666666,
             "#ed7953"
            ],
            [
             0.7777777777777778,
             "#fb9f3a"
            ],
            [
             0.8888888888888888,
             "#fdca26"
            ],
            [
             1,
             "#f0f921"
            ]
           ]
          },
          "colorway": [
           "#636efa",
           "#EF553B",
           "#00cc96",
           "#ab63fa",
           "#FFA15A",
           "#19d3f3",
           "#FF6692",
           "#B6E880",
           "#FF97FF",
           "#FECB52"
          ],
          "font": {
           "color": "#2a3f5f"
          },
          "geo": {
           "bgcolor": "white",
           "lakecolor": "white",
           "landcolor": "#E5ECF6",
           "showlakes": true,
           "showland": true,
           "subunitcolor": "white"
          },
          "hoverlabel": {
           "align": "left"
          },
          "hovermode": "closest",
          "mapbox": {
           "style": "light"
          },
          "paper_bgcolor": "white",
          "plot_bgcolor": "#E5ECF6",
          "polar": {
           "angularaxis": {
            "gridcolor": "white",
            "linecolor": "white",
            "ticks": ""
           },
           "bgcolor": "#E5ECF6",
           "radialaxis": {
            "gridcolor": "white",
            "linecolor": "white",
            "ticks": ""
           }
          },
          "scene": {
           "xaxis": {
            "backgroundcolor": "#E5ECF6",
            "gridcolor": "white",
            "gridwidth": 2,
            "linecolor": "white",
            "showbackground": true,
            "ticks": "",
            "zerolinecolor": "white"
           },
           "yaxis": {
            "backgroundcolor": "#E5ECF6",
            "gridcolor": "white",
            "gridwidth": 2,
            "linecolor": "white",
            "showbackground": true,
            "ticks": "",
            "zerolinecolor": "white"
           },
           "zaxis": {
            "backgroundcolor": "#E5ECF6",
            "gridcolor": "white",
            "gridwidth": 2,
            "linecolor": "white",
            "showbackground": true,
            "ticks": "",
            "zerolinecolor": "white"
           }
          },
          "shapedefaults": {
           "line": {
            "color": "#2a3f5f"
           }
          },
          "ternary": {
           "aaxis": {
            "gridcolor": "white",
            "linecolor": "white",
            "ticks": ""
           },
           "baxis": {
            "gridcolor": "white",
            "linecolor": "white",
            "ticks": ""
           },
           "bgcolor": "#E5ECF6",
           "caxis": {
            "gridcolor": "white",
            "linecolor": "white",
            "ticks": ""
           }
          },
          "title": {
           "x": 0.05
          },
          "xaxis": {
           "automargin": true,
           "gridcolor": "white",
           "linecolor": "white",
           "ticks": "",
           "title": {
            "standoff": 15
           },
           "zerolinecolor": "white",
           "zerolinewidth": 2
          },
          "yaxis": {
           "automargin": true,
           "gridcolor": "white",
           "linecolor": "white",
           "ticks": "",
           "title": {
            "standoff": 15
           },
           "zerolinecolor": "white",
           "zerolinewidth": 2
          }
         }
        },
        "title": {
         "text": "Box plot of the total scores from the PHQ-9 test"
        },
        "xaxis": {
         "anchor": "y",
         "domain": [
          0,
          1
         ],
         "title": {
          "text": "todep"
         }
        },
        "yaxis": {
         "anchor": "x",
         "domain": [
          0,
          1
         ]
        }
       }
      }
     },
     "metadata": {},
     "output_type": "display_data"
    }
   ],
   "source": [
    "# Create the box plot figure\n",
    "fig = px.box(\n",
    "    \n",
    "# Select the dataframe\n",
    "    data_frame=df,\n",
    "\n",
    "# Select the column you want to visualize\n",
    "    x=\"todep\",\n",
    "    \n",
    "# Select the additional column to determine different groups of data    \n",
    "    color=\"inter_dom\",\n",
    "\n",
    "# Select the additional column to determine what information is shown when you hover over the plot\n",
    "    hover_data=[\"age\"],\n",
    "\n",
    "# Select the option to view all data points\n",
    "    points=\"all\",\n",
    "\n",
    "# Clean up the labels\n",
    "    title=\"Box plot of the total scores from the PHQ-9 test\",\n",
    "    labels={\"inter_dom\":\"Type of Student\", \"ToDep\":\"Total PHQ-9 Scores\"})\n",
    "\n",
    "# Show the figure\n",
    "fig.show()"
   ]
  },
  {
   "cell_type": "code",
   "execution_count": 30,
   "metadata": {},
   "outputs": [
    {
     "data": {
      "application/vnd.plotly.v1+json": {
       "config": {
        "plotlyServerURL": "https://plot.ly"
       },
       "data": [
        {
         "type": "heatmap",
         "x": [
          "age",
          "stay",
          "japanese",
          "english",
          "todep",
          "tosc",
          "apd",
          "ahome",
          "aph",
          "afear",
          "acs",
          "aguilt",
          "amiscell",
          "toas",
          "partner",
          "friends",
          "parents",
          "relative",
          "profess",
          "phone",
          "doctor",
          "reli",
          "alone",
          "others",
          "internet"
         ],
         "y": [
          "age",
          "stay",
          "japanese",
          "english",
          "todep",
          "tosc",
          "apd",
          "ahome",
          "aph",
          "afear",
          "acs",
          "aguilt",
          "amiscell",
          "toas",
          "partner",
          "friends",
          "parents",
          "relative",
          "profess",
          "phone",
          "doctor",
          "reli",
          "alone",
          "others",
          "internet"
         ],
         "z": [
          [
           1,
           0.6141145562735691,
           0.13826612313135078,
           0.13721222665863375,
           0.022477395726128155,
           0.020029725791342105,
           0.08708555228248341,
           -0.0882181080245626,
           -0.009610531398632743,
           -0.027730497617867597,
           0.028436864636626806,
           -0.0920739688162803,
           -0.0016632777253251122,
           -0.0021787108296547793,
           0.08059494070218372,
           -0.05747035990005297,
           -0.056767125633058094,
           -0.03078251058986522,
           0.06567342890259863,
           -0.01765778249052609,
           0.057192438895950624,
           0.13019673961216582,
           -0.15051705764889192,
           0.012084404948285825,
           0.0017454272234456636
          ],
          [
           0.6141145562735691,
           1,
           0.27471187694862886,
           -0.03997653311920683,
           0.061270213826041975,
           -0.03331732607683595,
           0.047911828560420144,
           -0.13002043035982225,
           -0.0030213063569441575,
           -0.007445802913390707,
           0.0052745943365912,
           -0.025138747512919925,
           -0.016624124674793204,
           -0.01825560207437437,
           0.011852616057283974,
           0.00952347087777358,
           0.00640089939040787,
           -0.04415794754982373,
           -0.012406312131204097,
           -0.0755453899363386,
           0.004447402038547371,
           -0.0073203959603986655,
           -0.15708497689767398,
           0.0005852903174340492,
           -0.005338981760702024
          ],
          [
           0.13826612313135078,
           0.27471187694862886,
           1,
           -0.3790307269494541,
           -0.014869403962911379,
           0.05723147267894129,
           -0.17599801064617576,
           -0.309990783839403,
           -0.17865779221172617,
           -0.1386533423104839,
           -0.22536267658429499,
           -0.10246097592487732,
           -0.1827411974392135,
           -0.24971628235558518,
           0.01713782441005938,
           0.08950791198700213,
           0.18692756499458024,
           0.014638589984201032,
           0.07837662133079101,
           0.125706218556187,
           0.11100099290274558,
           -0.016607419417593895,
           -0.20872117257678557,
           -0.06807233684778727,
           -0.08371340652501433
          ],
          [
           0.13721222665863375,
           -0.03997653311920683,
           -0.3790307269494541,
           1,
           -0.008800721949561762,
           -0.09913667553310736,
           0.17554481525122972,
           0.1408485902172997,
           0.16833435095182198,
           0.14132224480173214,
           0.20003023666070496,
           0.033151390973609335,
           0.18318017438092388,
           0.2094301625602731,
           0.18849625370749076,
           0.015566029745730802,
           -0.0698014596310764,
           0.02510252359907134,
           0.13030747031486686,
           -0.04291163664275441,
           0.03337829163300194,
           0.044746158284578064,
           0.1349808847046296,
           0.13971332844135234,
           0.04641410210254837
          ],
          [
           0.022477395726128155,
           0.061270213826041975,
           -0.014869403962911379,
           -0.008800721949561762,
           1,
           -0.5814531841442493,
           0.35679770655116094,
           0.15457569942952104,
           0.30944572927985603,
           0.3628790021884842,
           0.30657494417326187,
           0.3217110033862243,
           0.3763025467701742,
           0.4181440850196493,
           -0.022951548769624776,
           -0.09733845492899279,
           -0.17875803625717618,
           -0.13937828905510982,
           0.057167446989379464,
           0.06853412479719304,
           -0.013229665914724622,
           -0.03203805265525123,
           0.32267795734552157,
           0.28136948748759405,
           0.16110960354943368
          ],
          [
           0.020029725791342105,
           -0.03331732607683595,
           0.05723147267894129,
           -0.09913667553310736,
           -0.5814531841442493,
           1,
           -0.5335345435890754,
           -0.24860116801107818,
           -0.43967522599327447,
           -0.45960042806030965,
           -0.38486525452559855,
           -0.37272324735005263,
           -0.5038604267946896,
           -0.5761310113457656,
           0.015159719530641462,
           0.1306187577855058,
           0.1757947460831721,
           0.18152760935426676,
           -0.10651759079578602,
           -0.021919573734464407,
           -0.029947979107156467,
           -0.004092014786676189,
           -0.4247947295362379,
           -0.2187373659039153,
           -0.2122581694725351
          ],
          [
           0.08708555228248341,
           0.047911828560420144,
           -0.17599801064617576,
           0.17554481525122972,
           0.35679770655116094,
           -0.5335345435890754,
           1,
           0.3695913040715951,
           0.6520581994975432,
           0.5886589795781986,
           0.43862438577505786,
           0.3018772052462568,
           0.5825555976145121,
           0.8104336093000395,
           0.04907911131130746,
           -0.04661928926670871,
           -0.16694920338319733,
           -0.07643392122405837,
           0.1320167090738742,
           0.10902576916283016,
           0.10329801164357856,
           0.17906501482452936,
           0.2496976834546127,
           0.20716701268585275,
           0.25151327225419057
          ],
          [
           -0.0882181080245626,
           -0.13002043035982225,
           -0.309990783839403,
           0.1408485902172997,
           0.15457569942952104,
           -0.24860116801107818,
           0.3695913040715951,
           1,
           0.36932490814387725,
           0.4224659673072138,
           0.43120289953748075,
           0.3854482029039152,
           0.5059003844058878,
           0.6525366213751999,
           0.022658453815403278,
           0.09253459507593086,
           0.20201739771581786,
           0.17237434845450206,
           0.11024181662327,
           0.08316406921761885,
           0.011433602589055883,
           0.13818670982811845,
           0.07927117137823461,
           0.197621409767614,
           0.1979247828004269
          ],
          [
           -0.009610531398632743,
           -0.0030213063569441575,
           -0.17865779221172617,
           0.16833435095182198,
           0.30944572927985603,
           -0.43967522599327447,
           0.6520581994975432,
           0.36932490814387725,
           1,
           0.636582722887585,
           0.45706319308877225,
           0.31323448461704306,
           0.5498046350206011,
           0.7778144011134785,
           -0.06393022030850422,
           -0.121101011349883,
           -0.10894394093362074,
           -0.061971489777557114,
           0.06819056498376506,
           0.07229262778020956,
           0.07082892544184394,
           0.15549574068155192,
           0.2481525140644779,
           0.2093028274232335,
           0.12689430524122428
          ],
          [
           -0.027730497617867597,
           -0.007445802913390707,
           -0.1386533423104839,
           0.14132224480173214,
           0.3628790021884842,
           -0.45960042806030965,
           0.5886589795781986,
           0.4224659673072138,
           0.636582722887585,
           1,
           0.4133132647486497,
           0.43175495152912235,
           0.561191793453646,
           0.7602456916047359,
           -0.07682550926843552,
           -0.06034511656897137,
           -0.07195549883995414,
           -0.01599036324925219,
           0.10662044878184004,
           0.08019781478991919,
           0.05974671205239523,
           0.16796625165125906,
           0.16961243514050972,
           0.2459554429369477,
           0.19086899938040283
          ],
          [
           0.028436864636626806,
           0.0052745943365912,
           -0.22536267658429499,
           0.20003023666070496,
           0.30657494417326187,
           -0.38486525452559855,
           0.43862438577505786,
           0.43120289953748075,
           0.45706319308877225,
           0.4133132647486497,
           1,
           0.38705098660667114,
           0.6546641254198534,
           0.6982742840441803,
           0.04580520336405351,
           0.044826039313822924,
           0.016967874869995455,
           0.03850165177795524,
           0.10075169804037602,
           0.09223570556627313,
           0.041293405177236925,
           0.046359462696104324,
           0.26393781208869616,
           0.16040904619045823,
           0.1857046366145684
          ],
          [
           -0.0920739688162803,
           -0.025138747512919925,
           -0.10246097592487732,
           0.033151390973609335,
           0.3217110033862243,
           -0.37272324735005263,
           0.3018772052462568,
           0.3854482029039152,
           0.31323448461704306,
           0.43175495152912235,
           0.38705098660667114,
           1,
           0.5023934747319089,
           0.5613366257864246,
           -0.028026191146910438,
           -0.06841377034663233,
           -0.05474260685882706,
           0.01282077424759467,
           0.07454369200142981,
           0.04833219590932034,
           0.003976744805923007,
           0.1931758715339912,
           0.2735263828985559,
           0.22758096087006094,
           0.140489471208461
          ],
          [
           -0.0016632777253251122,
           -0.016624124674793204,
           -0.1827411974392135,
           0.18318017438092388,
           0.3763025467701742,
           -0.5038604267946896,
           0.5825555976145121,
           0.5059003844058878,
           0.5498046350206011,
           0.561191793453646,
           0.6546641254198534,
           0.5023934747319089,
           1,
           0.8720535747343977,
           0.13756810377627618,
           0.08118219279809849,
           0.03495394697569857,
           0.03980719774743412,
           0.184122545273658,
           0.09755791846139764,
           0.11886589275658932,
           0.1180852677668665,
           0.30011572581800583,
           0.2620578528882144,
           0.30478775313156675
          ],
          [
           -0.0021787108296547793,
           -0.01825560207437437,
           -0.24971628235558518,
           0.2094301625602731,
           0.4181440850196493,
           -0.5761310113457656,
           0.8104336093000395,
           0.6525366213751999,
           0.7778144011134785,
           0.7602456916047359,
           0.6982742840441803,
           0.5613366257864246,
           0.8720535747343977,
           1,
           0.04247446249419476,
           -0.0019886619586085962,
           -0.03229842618889431,
           0.013827341606099998,
           0.16099927199616249,
           0.11572020966922097,
           0.09572970259074971,
           0.1863740916765687,
           0.3033915976329042,
           0.28791278059403097,
           0.2866011464775678
          ],
          [
           0.08059494070218372,
           0.011852616057283974,
           0.01713782441005938,
           0.18849625370749076,
           -0.022951548769624776,
           0.015159719530641462,
           0.04907911131130746,
           0.022658453815403278,
           -0.06393022030850422,
           -0.07682550926843552,
           0.04580520336405351,
           -0.028026191146910438,
           0.13756810377627618,
           0.04247446249419476,
           1,
           0.4060885809112905,
           0.3689590842815169,
           0.21341510712901313,
           0.3200200466019488,
           0.1825771243285286,
           0.3028048296411275,
           0.06672938219390173,
           -0.011500646747965294,
           0.005678965775200145,
           0.1373425986164617
          ],
          [
           -0.05747035990005297,
           0.00952347087777358,
           0.08950791198700213,
           0.015566029745730802,
           -0.09733845492899279,
           0.1306187577855058,
           -0.04661928926670871,
           0.09253459507593086,
           -0.121101011349883,
           -0.06034511656897137,
           0.044826039313822924,
           -0.06841377034663233,
           0.08118219279809849,
           -0.0019886619586085962,
           0.4060885809112905,
           1,
           0.5029715137374748,
           0.37275561546910063,
           0.29697138408411944,
           0.2053349917582484,
           0.2804094740048156,
           0.16066567463079467,
           -0.09821839575024159,
           0.03877470253155404,
           0.25598799007182726
          ],
          [
           -0.056767125633058094,
           0.00640089939040787,
           0.18692756499458024,
           -0.0698014596310764,
           -0.17875803625717618,
           0.1757947460831721,
           -0.16694920338319733,
           0.20201739771581786,
           -0.10894394093362074,
           -0.07195549883995414,
           0.016967874869995455,
           -0.05474260685882706,
           0.03495394697569857,
           -0.03229842618889431,
           0.3689590842815169,
           0.5029715137374748,
           1,
           0.6192435485344735,
           0.27207224460775237,
           0.2181708299317812,
           0.2938294306082249,
           0.17056669161857102,
           -0.20875199357541918,
           0.006876696764883226,
           0.15508526941166353
          ],
          [
           -0.03078251058986522,
           -0.04415794754982373,
           0.014638589984201032,
           0.02510252359907134,
           -0.13937828905510982,
           0.18152760935426676,
           -0.07643392122405837,
           0.17237434845450206,
           -0.061971489777557114,
           -0.01599036324925219,
           0.03850165177795524,
           0.01282077424759467,
           0.03980719774743412,
           0.013827341606099998,
           0.21341510712901313,
           0.37275561546910063,
           0.6192435485344735,
           1,
           0.3186819035334899,
           0.3419499401558149,
           0.3185735128367591,
           0.34885169426934753,
           -0.12831807553832675,
           0.08538378880724762,
           0.14587161002484716
          ],
          [
           0.06567342890259863,
           -0.012406312131204097,
           0.07837662133079101,
           0.13030747031486686,
           0.057167446989379464,
           -0.10651759079578602,
           0.1320167090738742,
           0.11024181662327,
           0.06819056498376506,
           0.10662044878184004,
           0.10075169804037602,
           0.07454369200142981,
           0.184122545273658,
           0.16099927199616249,
           0.3200200466019488,
           0.29697138408411944,
           0.27207224460775237,
           0.3186819035334899,
           1,
           0.6294972581795744,
           0.7312200407669437,
           0.3005508841164646,
           -0.04876805196115714,
           0.20683436630958169,
           0.2882041502522056
          ],
          [
           -0.01765778249052609,
           -0.0755453899363386,
           0.125706218556187,
           -0.04291163664275441,
           0.06853412479719304,
           -0.021919573734464407,
           0.10902576916283016,
           0.08316406921761885,
           0.07229262778020956,
           0.08019781478991919,
           0.09223570556627313,
           0.04833219590932034,
           0.09755791846139764,
           0.11572020966922097,
           0.1825771243285286,
           0.2053349917582484,
           0.2181708299317812,
           0.3419499401558149,
           0.6294972581795744,
           1,
           0.6663096284484229,
           0.48124025466118125,
           0.06694221086991009,
           0.2712758859876776,
           0.4008234037248901
          ],
          [
           0.057192438895950624,
           0.004447402038547371,
           0.11100099290274558,
           0.03337829163300194,
           -0.013229665914724622,
           -0.029947979107156467,
           0.10329801164357856,
           0.011433602589055883,
           0.07082892544184394,
           0.05974671205239523,
           0.041293405177236925,
           0.003976744805923007,
           0.11886589275658932,
           0.09572970259074971,
           0.3028048296411275,
           0.2804094740048156,
           0.2938294306082249,
           0.3185735128367591,
           0.7312200407669437,
           0.6663096284484229,
           1,
           0.34611010864138947,
           -0.00987102608822756,
           0.2623136026939039,
           0.29638464598042363
          ],
          [
           0.13019673961216582,
           -0.0073203959603986655,
           -0.016607419417593895,
           0.044746158284578064,
           -0.03203805265525123,
           -0.004092014786676189,
           0.17906501482452936,
           0.13818670982811845,
           0.15549574068155192,
           0.16796625165125906,
           0.046359462696104324,
           0.1931758715339912,
           0.1180852677668665,
           0.1863740916765687,
           0.06672938219390173,
           0.16066567463079467,
           0.17056669161857102,
           0.34885169426934753,
           0.3005508841164646,
           0.48124025466118125,
           0.34611010864138947,
           1,
           0.10516672239397441,
           0.27699227985412905,
           0.27324047231921045
          ],
          [
           -0.15051705764889192,
           -0.15708497689767398,
           -0.20872117257678557,
           0.1349808847046296,
           0.32267795734552157,
           -0.4247947295362379,
           0.2496976834546127,
           0.07927117137823461,
           0.2481525140644779,
           0.16961243514050972,
           0.26393781208869616,
           0.2735263828985559,
           0.30011572581800583,
           0.3033915976329042,
           -0.011500646747965294,
           -0.09821839575024159,
           -0.20875199357541918,
           -0.12831807553832675,
           -0.04876805196115714,
           0.06694221086991009,
           -0.00987102608822756,
           0.10516672239397441,
           1,
           0.3558640437775067,
           0.23410691523020893
          ],
          [
           0.012084404948285825,
           0.0005852903174340492,
           -0.06807233684778727,
           0.13971332844135234,
           0.28136948748759405,
           -0.2187373659039153,
           0.20716701268585275,
           0.197621409767614,
           0.2093028274232335,
           0.2459554429369477,
           0.16040904619045823,
           0.22758096087006094,
           0.2620578528882144,
           0.28791278059403097,
           0.005678965775200145,
           0.03877470253155404,
           0.006876696764883226,
           0.08538378880724762,
           0.20683436630958169,
           0.2712758859876776,
           0.2623136026939039,
           0.27699227985412905,
           0.3558640437775067,
           1,
           0.28995203633676475
          ],
          [
           0.0017454272234456636,
           -0.005338981760702024,
           -0.08371340652501433,
           0.04641410210254837,
           0.16110960354943368,
           -0.2122581694725351,
           0.25151327225419057,
           0.1979247828004269,
           0.12689430524122428,
           0.19086899938040283,
           0.1857046366145684,
           0.140489471208461,
           0.30478775313156675,
           0.2866011464775678,
           0.1373425986164617,
           0.25598799007182726,
           0.15508526941166353,
           0.14587161002484716,
           0.2882041502522056,
           0.4008234037248901,
           0.29638464598042363,
           0.27324047231921045,
           0.23410691523020893,
           0.28995203633676475,
           1
          ]
         ],
         "zmax": 1,
         "zmin": -1
        }
       ],
       "layout": {
        "height": 900,
        "template": {
         "data": {
          "bar": [
           {
            "error_x": {
             "color": "#2a3f5f"
            },
            "error_y": {
             "color": "#2a3f5f"
            },
            "marker": {
             "line": {
              "color": "#E5ECF6",
              "width": 0.5
             },
             "pattern": {
              "fillmode": "overlay",
              "size": 10,
              "solidity": 0.2
             }
            },
            "type": "bar"
           }
          ],
          "barpolar": [
           {
            "marker": {
             "line": {
              "color": "#E5ECF6",
              "width": 0.5
             },
             "pattern": {
              "fillmode": "overlay",
              "size": 10,
              "solidity": 0.2
             }
            },
            "type": "barpolar"
           }
          ],
          "carpet": [
           {
            "aaxis": {
             "endlinecolor": "#2a3f5f",
             "gridcolor": "white",
             "linecolor": "white",
             "minorgridcolor": "white",
             "startlinecolor": "#2a3f5f"
            },
            "baxis": {
             "endlinecolor": "#2a3f5f",
             "gridcolor": "white",
             "linecolor": "white",
             "minorgridcolor": "white",
             "startlinecolor": "#2a3f5f"
            },
            "type": "carpet"
           }
          ],
          "choropleth": [
           {
            "colorbar": {
             "outlinewidth": 0,
             "ticks": ""
            },
            "type": "choropleth"
           }
          ],
          "contour": [
           {
            "colorbar": {
             "outlinewidth": 0,
             "ticks": ""
            },
            "colorscale": [
             [
              0,
              "#0d0887"
             ],
             [
              0.1111111111111111,
              "#46039f"
             ],
             [
              0.2222222222222222,
              "#7201a8"
             ],
             [
              0.3333333333333333,
              "#9c179e"
             ],
             [
              0.4444444444444444,
              "#bd3786"
             ],
             [
              0.5555555555555556,
              "#d8576b"
             ],
             [
              0.6666666666666666,
              "#ed7953"
             ],
             [
              0.7777777777777778,
              "#fb9f3a"
             ],
             [
              0.8888888888888888,
              "#fdca26"
             ],
             [
              1,
              "#f0f921"
             ]
            ],
            "type": "contour"
           }
          ],
          "contourcarpet": [
           {
            "colorbar": {
             "outlinewidth": 0,
             "ticks": ""
            },
            "type": "contourcarpet"
           }
          ],
          "heatmap": [
           {
            "colorbar": {
             "outlinewidth": 0,
             "ticks": ""
            },
            "colorscale": [
             [
              0,
              "#0d0887"
             ],
             [
              0.1111111111111111,
              "#46039f"
             ],
             [
              0.2222222222222222,
              "#7201a8"
             ],
             [
              0.3333333333333333,
              "#9c179e"
             ],
             [
              0.4444444444444444,
              "#bd3786"
             ],
             [
              0.5555555555555556,
              "#d8576b"
             ],
             [
              0.6666666666666666,
              "#ed7953"
             ],
             [
              0.7777777777777778,
              "#fb9f3a"
             ],
             [
              0.8888888888888888,
              "#fdca26"
             ],
             [
              1,
              "#f0f921"
             ]
            ],
            "type": "heatmap"
           }
          ],
          "heatmapgl": [
           {
            "colorbar": {
             "outlinewidth": 0,
             "ticks": ""
            },
            "colorscale": [
             [
              0,
              "#0d0887"
             ],
             [
              0.1111111111111111,
              "#46039f"
             ],
             [
              0.2222222222222222,
              "#7201a8"
             ],
             [
              0.3333333333333333,
              "#9c179e"
             ],
             [
              0.4444444444444444,
              "#bd3786"
             ],
             [
              0.5555555555555556,
              "#d8576b"
             ],
             [
              0.6666666666666666,
              "#ed7953"
             ],
             [
              0.7777777777777778,
              "#fb9f3a"
             ],
             [
              0.8888888888888888,
              "#fdca26"
             ],
             [
              1,
              "#f0f921"
             ]
            ],
            "type": "heatmapgl"
           }
          ],
          "histogram": [
           {
            "marker": {
             "pattern": {
              "fillmode": "overlay",
              "size": 10,
              "solidity": 0.2
             }
            },
            "type": "histogram"
           }
          ],
          "histogram2d": [
           {
            "colorbar": {
             "outlinewidth": 0,
             "ticks": ""
            },
            "colorscale": [
             [
              0,
              "#0d0887"
             ],
             [
              0.1111111111111111,
              "#46039f"
             ],
             [
              0.2222222222222222,
              "#7201a8"
             ],
             [
              0.3333333333333333,
              "#9c179e"
             ],
             [
              0.4444444444444444,
              "#bd3786"
             ],
             [
              0.5555555555555556,
              "#d8576b"
             ],
             [
              0.6666666666666666,
              "#ed7953"
             ],
             [
              0.7777777777777778,
              "#fb9f3a"
             ],
             [
              0.8888888888888888,
              "#fdca26"
             ],
             [
              1,
              "#f0f921"
             ]
            ],
            "type": "histogram2d"
           }
          ],
          "histogram2dcontour": [
           {
            "colorbar": {
             "outlinewidth": 0,
             "ticks": ""
            },
            "colorscale": [
             [
              0,
              "#0d0887"
             ],
             [
              0.1111111111111111,
              "#46039f"
             ],
             [
              0.2222222222222222,
              "#7201a8"
             ],
             [
              0.3333333333333333,
              "#9c179e"
             ],
             [
              0.4444444444444444,
              "#bd3786"
             ],
             [
              0.5555555555555556,
              "#d8576b"
             ],
             [
              0.6666666666666666,
              "#ed7953"
             ],
             [
              0.7777777777777778,
              "#fb9f3a"
             ],
             [
              0.8888888888888888,
              "#fdca26"
             ],
             [
              1,
              "#f0f921"
             ]
            ],
            "type": "histogram2dcontour"
           }
          ],
          "mesh3d": [
           {
            "colorbar": {
             "outlinewidth": 0,
             "ticks": ""
            },
            "type": "mesh3d"
           }
          ],
          "parcoords": [
           {
            "line": {
             "colorbar": {
              "outlinewidth": 0,
              "ticks": ""
             }
            },
            "type": "parcoords"
           }
          ],
          "pie": [
           {
            "automargin": true,
            "type": "pie"
           }
          ],
          "scatter": [
           {
            "fillpattern": {
             "fillmode": "overlay",
             "size": 10,
             "solidity": 0.2
            },
            "type": "scatter"
           }
          ],
          "scatter3d": [
           {
            "line": {
             "colorbar": {
              "outlinewidth": 0,
              "ticks": ""
             }
            },
            "marker": {
             "colorbar": {
              "outlinewidth": 0,
              "ticks": ""
             }
            },
            "type": "scatter3d"
           }
          ],
          "scattercarpet": [
           {
            "marker": {
             "colorbar": {
              "outlinewidth": 0,
              "ticks": ""
             }
            },
            "type": "scattercarpet"
           }
          ],
          "scattergeo": [
           {
            "marker": {
             "colorbar": {
              "outlinewidth": 0,
              "ticks": ""
             }
            },
            "type": "scattergeo"
           }
          ],
          "scattergl": [
           {
            "marker": {
             "colorbar": {
              "outlinewidth": 0,
              "ticks": ""
             }
            },
            "type": "scattergl"
           }
          ],
          "scattermapbox": [
           {
            "marker": {
             "colorbar": {
              "outlinewidth": 0,
              "ticks": ""
             }
            },
            "type": "scattermapbox"
           }
          ],
          "scatterpolar": [
           {
            "marker": {
             "colorbar": {
              "outlinewidth": 0,
              "ticks": ""
             }
            },
            "type": "scatterpolar"
           }
          ],
          "scatterpolargl": [
           {
            "marker": {
             "colorbar": {
              "outlinewidth": 0,
              "ticks": ""
             }
            },
            "type": "scatterpolargl"
           }
          ],
          "scatterternary": [
           {
            "marker": {
             "colorbar": {
              "outlinewidth": 0,
              "ticks": ""
             }
            },
            "type": "scatterternary"
           }
          ],
          "surface": [
           {
            "colorbar": {
             "outlinewidth": 0,
             "ticks": ""
            },
            "colorscale": [
             [
              0,
              "#0d0887"
             ],
             [
              0.1111111111111111,
              "#46039f"
             ],
             [
              0.2222222222222222,
              "#7201a8"
             ],
             [
              0.3333333333333333,
              "#9c179e"
             ],
             [
              0.4444444444444444,
              "#bd3786"
             ],
             [
              0.5555555555555556,
              "#d8576b"
             ],
             [
              0.6666666666666666,
              "#ed7953"
             ],
             [
              0.7777777777777778,
              "#fb9f3a"
             ],
             [
              0.8888888888888888,
              "#fdca26"
             ],
             [
              1,
              "#f0f921"
             ]
            ],
            "type": "surface"
           }
          ],
          "table": [
           {
            "cells": {
             "fill": {
              "color": "#EBF0F8"
             },
             "line": {
              "color": "white"
             }
            },
            "header": {
             "fill": {
              "color": "#C8D4E3"
             },
             "line": {
              "color": "white"
             }
            },
            "type": "table"
           }
          ]
         },
         "layout": {
          "annotationdefaults": {
           "arrowcolor": "#2a3f5f",
           "arrowhead": 0,
           "arrowwidth": 1
          },
          "autotypenumbers": "strict",
          "coloraxis": {
           "colorbar": {
            "outlinewidth": 0,
            "ticks": ""
           }
          },
          "colorscale": {
           "diverging": [
            [
             0,
             "#8e0152"
            ],
            [
             0.1,
             "#c51b7d"
            ],
            [
             0.2,
             "#de77ae"
            ],
            [
             0.3,
             "#f1b6da"
            ],
            [
             0.4,
             "#fde0ef"
            ],
            [
             0.5,
             "#f7f7f7"
            ],
            [
             0.6,
             "#e6f5d0"
            ],
            [
             0.7,
             "#b8e186"
            ],
            [
             0.8,
             "#7fbc41"
            ],
            [
             0.9,
             "#4d9221"
            ],
            [
             1,
             "#276419"
            ]
           ],
           "sequential": [
            [
             0,
             "#0d0887"
            ],
            [
             0.1111111111111111,
             "#46039f"
            ],
            [
             0.2222222222222222,
             "#7201a8"
            ],
            [
             0.3333333333333333,
             "#9c179e"
            ],
            [
             0.4444444444444444,
             "#bd3786"
            ],
            [
             0.5555555555555556,
             "#d8576b"
            ],
            [
             0.6666666666666666,
             "#ed7953"
            ],
            [
             0.7777777777777778,
             "#fb9f3a"
            ],
            [
             0.8888888888888888,
             "#fdca26"
            ],
            [
             1,
             "#f0f921"
            ]
           ],
           "sequentialminus": [
            [
             0,
             "#0d0887"
            ],
            [
             0.1111111111111111,
             "#46039f"
            ],
            [
             0.2222222222222222,
             "#7201a8"
            ],
            [
             0.3333333333333333,
             "#9c179e"
            ],
            [
             0.4444444444444444,
             "#bd3786"
            ],
            [
             0.5555555555555556,
             "#d8576b"
            ],
            [
             0.6666666666666666,
             "#ed7953"
            ],
            [
             0.7777777777777778,
             "#fb9f3a"
            ],
            [
             0.8888888888888888,
             "#fdca26"
            ],
            [
             1,
             "#f0f921"
            ]
           ]
          },
          "colorway": [
           "#636efa",
           "#EF553B",
           "#00cc96",
           "#ab63fa",
           "#FFA15A",
           "#19d3f3",
           "#FF6692",
           "#B6E880",
           "#FF97FF",
           "#FECB52"
          ],
          "font": {
           "color": "#2a3f5f"
          },
          "geo": {
           "bgcolor": "white",
           "lakecolor": "white",
           "landcolor": "#E5ECF6",
           "showlakes": true,
           "showland": true,
           "subunitcolor": "white"
          },
          "hoverlabel": {
           "align": "left"
          },
          "hovermode": "closest",
          "mapbox": {
           "style": "light"
          },
          "paper_bgcolor": "white",
          "plot_bgcolor": "#E5ECF6",
          "polar": {
           "angularaxis": {
            "gridcolor": "white",
            "linecolor": "white",
            "ticks": ""
           },
           "bgcolor": "#E5ECF6",
           "radialaxis": {
            "gridcolor": "white",
            "linecolor": "white",
            "ticks": ""
           }
          },
          "scene": {
           "xaxis": {
            "backgroundcolor": "#E5ECF6",
            "gridcolor": "white",
            "gridwidth": 2,
            "linecolor": "white",
            "showbackground": true,
            "ticks": "",
            "zerolinecolor": "white"
           },
           "yaxis": {
            "backgroundcolor": "#E5ECF6",
            "gridcolor": "white",
            "gridwidth": 2,
            "linecolor": "white",
            "showbackground": true,
            "ticks": "",
            "zerolinecolor": "white"
           },
           "zaxis": {
            "backgroundcolor": "#E5ECF6",
            "gridcolor": "white",
            "gridwidth": 2,
            "linecolor": "white",
            "showbackground": true,
            "ticks": "",
            "zerolinecolor": "white"
           }
          },
          "shapedefaults": {
           "line": {
            "color": "#2a3f5f"
           }
          },
          "ternary": {
           "aaxis": {
            "gridcolor": "white",
            "linecolor": "white",
            "ticks": ""
           },
           "baxis": {
            "gridcolor": "white",
            "linecolor": "white",
            "ticks": ""
           },
           "bgcolor": "#E5ECF6",
           "caxis": {
            "gridcolor": "white",
            "linecolor": "white",
            "ticks": ""
           }
          },
          "title": {
           "x": 0.05
          },
          "xaxis": {
           "automargin": true,
           "gridcolor": "white",
           "linecolor": "white",
           "ticks": "",
           "title": {
            "standoff": 15
           },
           "zerolinecolor": "white",
           "zerolinewidth": 2
          },
          "yaxis": {
           "automargin": true,
           "gridcolor": "white",
           "linecolor": "white",
           "ticks": "",
           "title": {
            "standoff": 15
           },
           "zerolinecolor": "white",
           "zerolinewidth": 2
          }
         }
        },
        "width": 900
       }
      }
     },
     "metadata": {},
     "output_type": "display_data"
    }
   ],
   "source": [
    "import pandas as pd\n",
    "import plotly.graph_objects as go\n",
    "\n",
    "# List of continuous variables\n",
    "continuous_variables = ['age', 'stay', 'japanese', 'english', 'todep', 'tosc', 'apd', 'ahome', 'aph', 'afear', 'acs', 'aguilt', 'amiscell', 'toas', 'partner', 'friends', 'parents', 'relative', 'profess', 'phone', 'doctor', 'reli', 'alone', 'others', 'internet']\n",
    "\n",
    "# Check which columns are actually present in the DataFrame\n",
    "available_continuous_variables = [col for col in continuous_variables if col in df.columns]\n",
    "\n",
    "# Create a subset DataFrame with only the columns of continuous variables that are present\n",
    "data_cont = df[available_continuous_variables]\n",
    "\n",
    "# Convert columns to numeric, coercing errors to NaN\n",
    "data_cont = data_cont.apply(pd.to_numeric, errors='coerce')\n",
    "\n",
    "# Drop rows with any NaN values (optional, depending on how you want to handle missing data)\n",
    "data_cont = data_cont.dropna()\n",
    "\n",
    "# Create a Pearson correlation matrix\n",
    "data_corr = data_cont.corr(method='pearson')\n",
    "\n",
    "# Build the heatmap\n",
    "fig = go.Figure(go.Heatmap(\n",
    "    x=data_corr.columns, \n",
    "    y=data_corr.columns, \n",
    "    z=data_corr.values,\n",
    "    zmin=-1, \n",
    "    zmax=1\n",
    "))\n",
    "\n",
    "# Adjust the plot size\n",
    "fig.update_layout(width=900, height=900)\n",
    "\n",
    "# Show the plot\n",
    "fig.show()\n"
   ]
  },
  {
   "cell_type": "code",
   "execution_count": null,
   "metadata": {},
   "outputs": [],
   "source": []
  }
 ],
 "metadata": {
  "kernelspec": {
   "display_name": "base",
   "language": "python",
   "name": "python3"
  },
  "language_info": {
   "codemirror_mode": {
    "name": "ipython",
    "version": 3
   },
   "file_extension": ".py",
   "mimetype": "text/x-python",
   "name": "python",
   "nbconvert_exporter": "python",
   "pygments_lexer": "ipython3",
   "version": "3.11.5"
  }
 },
 "nbformat": 4,
 "nbformat_minor": 2
}
