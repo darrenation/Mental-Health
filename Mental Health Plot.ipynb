{
 "cells": [
  {
   "cell_type": "code",
   "execution_count": 2,
   "metadata": {},
   "outputs": [],
   "source": [
    "import pandas as pd\n",
    "import plotly.express as px\n",
    "import plotly.graph_objects as go"
   ]
  },
  {
   "cell_type": "code",
   "execution_count": 5,
   "metadata": {},
   "outputs": [
    {
     "name": "stdout",
     "output_type": "stream",
     "text": [
      "<class 'pandas.core.frame.DataFrame'>\n",
      "RangeIndex: 286 entries, 0 to 285\n",
      "Data columns (total 50 columns):\n",
      " #   Column           Non-Null Count  Dtype  \n",
      "---  ------           --------------  -----  \n",
      " 0   inter_dom        268 non-null    object \n",
      " 1   Region           268 non-null    object \n",
      " 2   Gender           268 non-null    object \n",
      " 3   Academic         268 non-null    object \n",
      " 4   Age              268 non-null    float64\n",
      " 5   Age_cate         268 non-null    float64\n",
      " 6   Stay             268 non-null    float64\n",
      " 7   Stay_Cate        268 non-null    object \n",
      " 8   Japanese         268 non-null    float64\n",
      " 9   Japanese_cate    268 non-null    object \n",
      " 10  English          268 non-null    float64\n",
      " 11  English_cate     268 non-null    object \n",
      " 12  Intimate         260 non-null    object \n",
      " 13  Religion         268 non-null    object \n",
      " 14  Suicide          268 non-null    object \n",
      " 15  Dep              270 non-null    object \n",
      " 16  DepType          271 non-null    object \n",
      " 17  ToDep            268 non-null    float64\n",
      " 18  DepSev           273 non-null    object \n",
      " 19  ToSC             268 non-null    float64\n",
      " 20  APD              268 non-null    float64\n",
      " 21  AHome            268 non-null    float64\n",
      " 22  APH              268 non-null    float64\n",
      " 23  Afear            268 non-null    float64\n",
      " 24  ACS              268 non-null    float64\n",
      " 25  AGuilt           268 non-null    float64\n",
      " 26  AMiscell         268 non-null    float64\n",
      " 27  ToAS             268 non-null    float64\n",
      " 28  Partner          268 non-null    float64\n",
      " 29  Friends          268 non-null    float64\n",
      " 30  Parents          268 non-null    float64\n",
      " 31  Relative         268 non-null    float64\n",
      " 32  Profess          268 non-null    float64\n",
      " 33   Phone           268 non-null    float64\n",
      " 34  Doctor           268 non-null    float64\n",
      " 35  Reli             268 non-null    float64\n",
      " 36  Alone            268 non-null    float64\n",
      " 37  Others           268 non-null    float64\n",
      " 38  Internet         242 non-null    float64\n",
      " 39  Partner_bi       283 non-null    object \n",
      " 40  Friends_bi       283 non-null    object \n",
      " 41  Parents_bi       272 non-null    object \n",
      " 42  Relative_bi      272 non-null    object \n",
      " 43  Professional_bi  272 non-null    object \n",
      " 44  Phone_bi         272 non-null    object \n",
      " 45  Doctor_bi        272 non-null    object \n",
      " 46  religion_bi      272 non-null    object \n",
      " 47  Alone_bi         272 non-null    object \n",
      " 48  Others_bi        272 non-null    object \n",
      " 49  Internet_bi      272 non-null    object \n",
      "dtypes: float64(26), object(24)\n",
      "memory usage: 111.8+ KB\n"
     ]
    }
   ],
   "source": [
    "df = pd.read_csv('data.csv')\n",
    "df.info()"
   ]
  }
 ],
 "metadata": {
  "kernelspec": {
   "display_name": "base",
   "language": "python",
   "name": "python3"
  },
  "language_info": {
   "codemirror_mode": {
    "name": "ipython",
    "version": 3
   },
   "file_extension": ".py",
   "mimetype": "text/x-python",
   "name": "python",
   "nbconvert_exporter": "python",
   "pygments_lexer": "ipython3",
   "version": "3.11.5"
  }
 },
 "nbformat": 4,
 "nbformat_minor": 2
}
